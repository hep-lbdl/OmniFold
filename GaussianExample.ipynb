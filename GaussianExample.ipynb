{
 "cells": [
  {
   "cell_type": "markdown",
   "metadata": {
    "ExecuteTime": {
     "end_time": "2020-11-17T03:48:59.924067Z",
     "start_time": "2020-11-17T03:48:57.190005Z"
    },
    "tags": []
   },
   "source": [
    "## Imports and settings"
   ]
  },
  {
   "cell_type": "code",
   "execution_count": 1,
   "metadata": {},
   "outputs": [],
   "source": [
    "import numpy as np\n",
    "from matplotlib import pyplot as plt\n",
    "\n",
    "from sklearn.model_selection import train_test_split\n",
    "import tensorflow as tf\n",
    "from tensorflow.keras.layers import Dense, Input\n",
    "from tensorflow.keras.models import Model\n",
    "from tensorflow.keras.callbacks import EarlyStopping\n",
    "\n",
    "from scipy.stats import norm"
   ]
  },
  {
   "cell_type": "code",
   "execution_count": 2,
   "metadata": {
    "tags": []
   },
   "outputs": [
    {
     "name": "stdout",
     "output_type": "stream",
     "text": [
      "[PhysicalDevice(name='/physical_device:GPU:0', device_type='GPU')]\n"
     ]
    }
   ],
   "source": [
    "gpus = tf.config.experimental.list_physical_devices('GPU')\n",
    "print(gpus)\n",
    "tf.config.experimental.set_virtual_device_configuration(gpus[0], [tf.config.experimental.VirtualDeviceConfiguration(memory_limit=1024)]) #in MB"
   ]
  },
  {
   "cell_type": "code",
   "execution_count": 3,
   "metadata": {
    "ExecuteTime": {
     "end_time": "2020-11-17T03:48:59.971307Z",
     "start_time": "2020-11-17T03:48:59.954584Z"
    },
    "tags": []
   },
   "outputs": [
    {
     "name": "stdout",
     "output_type": "stream",
     "text": [
      "2.9.0\n"
     ]
    }
   ],
   "source": [
    "# Check Versions\n",
    "import tensorflow as tf\n",
    "print(tf.__version__)"
   ]
  },
  {
   "cell_type": "markdown",
   "metadata": {},
   "source": [
    "# OmniFold Gaussian Toy Example"
   ]
  },
  {
   "cell_type": "markdown",
   "metadata": {},
   "source": [
    "There are five datasets:\n",
    "\n",
    "**Natural**\n",
    "* Truth -> the target\n",
    "* Data -> what we actually observe from the detector\n",
    "\n",
    "**Synthetic**\n",
    "* Generation -> particle-level Monte Carlo\n",
    "* Simulation -> result of passing the particle-level Monte Carlo through the detector emulation; we have pairs of events (generated, simulated)\n",
    "* Background -> simulations (possibly partially or wholely derived from data) of non-target processes"
   ]
  },
  {
   "cell_type": "markdown",
   "metadata": {},
   "source": [
    "The unfolding has 4 parts:\n",
    "\n",
    "1. Remove background\n",
    "2. Account for events that pass reco but not true\n",
    "3. Correct for detector distortions (deconvolution)\n",
    "4. Account for events that pass true but not reco\n",
    "\n",
    "In what follows, we do step (1) and then (2) - (4) are combined."
   ]
  },
  {
   "cell_type": "markdown",
   "metadata": {},
   "source": [
    "## Setup the Datasets"
   ]
  },
  {
   "cell_type": "code",
   "execution_count": 4,
   "metadata": {
    "ExecuteTime": {
     "end_time": "2020-11-17T03:48:59.978107Z",
     "start_time": "2020-11-17T03:48:59.974831Z"
    },
    "tags": []
   },
   "outputs": [],
   "source": [
    "mu0 = 0\n",
    "sigma0 = 1\n",
    "\n",
    "eff = 0.1 #fraction of true but not reco\n",
    "fake = 0.1 #fraction of reco but not true\n",
    "\n",
    "back = 0.1 #fraction of a background process that we would like to subtract"
   ]
  },
  {
   "cell_type": "code",
   "execution_count": 5,
   "metadata": {
    "tags": []
   },
   "outputs": [],
   "source": [
    "def reweighting(xx,mu0,mu1,sigma0,sigma1):\n",
    "    starting = norm.pdf((xx-mu0)/sigma0)\n",
    "    target = norm.pdf((xx-mu1)/sigma1)\n",
    "    return target/starting"
   ]
  },
  {
   "cell_type": "code",
   "execution_count": 6,
   "metadata": {
    "tags": []
   },
   "outputs": [
    {
     "data": {
      "text/plain": [
       "(array([6.63983340e-06, 6.73118067e-05, 5.13078551e-04, 2.62051463e-03,\n",
       "        1.30687685e-02, 4.75395804e-02, 1.13172667e-01, 2.31211705e-01,\n",
       "        3.52409257e-01, 3.96617363e-01, 3.39762178e-01, 2.19962421e-01,\n",
       "        1.20231338e-01, 4.71366041e-02, 1.22657894e-02, 2.82169899e-03,\n",
       "        5.14981180e-04, 7.05165726e-05, 7.58724549e-06]),\n",
       " array([-5.        , -4.47368421, -3.94736842, -3.42105263, -2.89473684,\n",
       "        -2.36842105, -1.84210526, -1.31578947, -0.78947368, -0.26315789,\n",
       "         0.26315789,  0.78947368,  1.31578947,  1.84210526,  2.36842105,\n",
       "         2.89473684,  3.42105263,  3.94736842,  4.47368421,  5.        ]),\n",
       " [<matplotlib.patches.Polygon at 0x7f7669369cd0>])"
      ]
     },
     "execution_count": 6,
     "metadata": {},
     "output_type": "execute_result"
    },
    {
     "data": {
      "image/png": "[encoded data removed]",
      "text/plain": [
       "<Figure size 640x480 with 1 Axes>"
      ]
     },
     "metadata": {},
     "output_type": "display_data"
    }
   ],
   "source": [
    "xx = np.linspace(-5,5,20)\n",
    "plt.hist(np.random.normal(0,1,10000),bins=xx,density=True)\n",
    "plt.hist(np.random.normal(0,2,10000),bins=xx,alpha=0.5,density=True)\n",
    "vals = np.random.normal(0,2,10000)\n",
    "plt.hist(vals,bins=xx,weights=reweighting(vals,0,0,2,1),density=True,histtype=\"step\",color=\"black\")"
   ]
  },
  {
   "cell_type": "code",
   "execution_count": 7,
   "metadata": {
    "ExecuteTime": {
     "end_time": "2020-11-17T03:49:24.308730Z",
     "start_time": "2020-11-17T03:48:59.981078Z"
    },
    "tags": []
   },
   "outputs": [],
   "source": [
    "N = 10**5\n",
    "# param = (mu, sigma)\n",
    "theta0_param = (mu0, sigma0)  # synthetic sample\n",
    "theta_unknown_param = (0.2, 0.8)  # this is the data (the target)\n",
    "background_param = (0, 1.2)  # background\n",
    "epsilon = sigma0 / 2.  # Smearing width\n",
    "\n",
    "dummyval = -10 #a value for examples that don't pass one of the measured/ideal selections\n",
    "\n",
    "#Synthetic\n",
    "x_gen = np.random.normal(theta0_param[0], theta0_param[1],N)\n",
    "x_sim = np.array([(x + np.random.normal(0, epsilon)) for x in x_gen])\n",
    "pass_reco = np.random.binomial(1,1.-eff,len(x_gen))\n",
    "pass_truth = np.random.binomial(1,1.-fake,len(x_gen))\n",
    "x_gen[pass_truth==0] = dummyval\n",
    "x_sim[pass_reco==0] = dummyval\n",
    "w_synth = np.ones(len(x_gen))\n",
    "w_synth = w_synth*len(w_synth)/np.sum(w_synth)\n",
    "\n",
    "x_background = np.random.normal(background_param[0],background_param[1], int(N*back))\n",
    "w_back = reweighting(x_background,background_param[0],background_param[0],background_param[1],background_param[1]*0.8)\n",
    "w_back = w_back*len(w_back)/np.sum(w_back) #pick weights so that they don't change sum (N.B. this changes statistical power, but I don't care for this example)\n",
    "x_sim_withback = np.concatenate([x_sim,x_background]) #sim with background added\n",
    "x_gen_withback= np.concatenate([x_gen,-np.ones(int(N*back))*dummyval]) #gen with background added; since background has no corresponding truth in the fiducial volume, set to dummy value\n",
    "w_synth_withback = np.concatenate([w_synth,w_back])\n",
    "\n",
    "x_synth = np.stack([x_gen, x_sim], axis=1)\n",
    "y_synth = np.zeros(len(x_synth))\n",
    "\n",
    "#Natural\n",
    "x_truth = np.random.normal(theta_unknown_param[0],theta_unknown_param[1], N) # Nature, particle-level analog\n",
    "x_data = np.array([(x + np.random.normal(0, epsilon)) for x in x_truth]) # Measured Data analog\n",
    "pass_reco = np.random.binomial(1,1.-eff,len(x_truth))\n",
    "pass_truth = np.random.binomial(1,1.-fake,len(x_truth))\n",
    "x_truth[pass_truth==0] = dummyval\n",
    "x_data[pass_reco==0] = dummyval #emulates cuts done in an analysis\n",
    "\n",
    "x_background_real = np.random.normal(background_param[0],background_param[1]*0.8, int(N*back))\n",
    "x_data_withback = np.concatenate([x_data,x_background_real]) #Data+Background\n",
    "x_truth_withback = np.concatenate([x_truth,-np.ones(int(N*back))*dummyval]) #Nature+background\n",
    "\n",
    "x_natural = np.stack([x_truth, x_data], axis=1)\n",
    "y_natural = np.ones(len(x_natural))"
   ]
  },
  {
   "cell_type": "code",
   "execution_count": 8,
   "metadata": {
    "tags": []
   },
   "outputs": [
    {
     "data": {
      "text/plain": [
       "(0.0, 3018.6)"
      ]
     },
     "execution_count": 8,
     "metadata": {},
     "output_type": "execute_result"
    },
    {
     "data": {
      "image/png": "[encoded data removed]",
      "text/plain": [
       "<Figure size 640x480 with 1 Axes>"
      ]
     },
     "metadata": {},
     "output_type": "display_data"
    }
   ],
   "source": [
    "#Check that I did the background weighting properly.\n",
    "binning = np.linspace(-5,5,20)\n",
    "ns,_,_=plt.hist(x_background,bins=binning,alpha=0.5,label=\"Sim. back., unweighted\")\n",
    "_,_,_=plt.hist(x_background,bins=binning,weights=w_back,alpha=0.5,label=\"Sim. back., weighted\")\n",
    "_,_,_=plt.hist(x_background_real,bins=binning,histtype=\"step\",color=\"black\",label=\"Real back.\")\n",
    "plt.legend(frameon=False,loc=\"upper left\")\n",
    "plt.ylabel(\"Number of events\")\n",
    "plt.xlabel(\"x\")\n",
    "plt.ylim([0,1.8*np.max(ns)])"
   ]
  },
  {
   "cell_type": "code",
   "execution_count": 9,
   "metadata": {
    "tags": []
   },
   "outputs": [
    {
     "data": {
      "text/plain": [
       "(0.0, 33943.30261419679)"
      ]
     },
     "execution_count": 9,
     "metadata": {},
     "output_type": "execute_result"
    },
    {
     "data": {
      "image/png": "[encoded data removed]",
      "text/plain": [
       "<Figure size 640x480 with 1 Axes>"
      ]
     },
     "metadata": {},
     "output_type": "display_data"
    }
   ],
   "source": [
    "#Now the full data/sim. including background\n",
    "binning = np.linspace(-5,5,20)\n",
    "ns,_,_=plt.hist(x_sim_withback[x_sim_withback!=dummyval],weights=w_synth_withback[x_sim_withback!=dummyval],bins=binning,alpha=0.5,label=\"Sim. w/ back\")\n",
    "_,_,_=plt.hist(x_background,bins=binning,weights=w_back,alpha=0.5,label=\"Sim. back.\")\n",
    "dplot=np.histogram(x_data_withback[x_data_withback!=dummyval],bins=binning)\n",
    "plt.plot(0.5*(dplot[1][1:]+dplot[1][:-1]),dplot[0],label=\"Data w/ back\",ls=\"\",marker='o',color=\"black\")\n",
    "_,_,_=plt.hist(x_background_real,bins=binning,alpha=0.5,label=\"Data back.\",histtype=\"step\",color=\"black\")\n",
    "plt.legend(frameon=False,loc=\"upper left\")\n",
    "plt.ylabel(\"Number of events\")\n",
    "plt.xlabel(\"x\")\n",
    "plt.ylim([0,1.8*np.max(ns)])"
   ]
  },
  {
   "cell_type": "markdown",
   "metadata": {},
   "source": [
    "## Let's first subtract the background\n",
    "(see https://arxiv.org/abs/2007.11586 and https://arxiv.org/abs/2105.04448 for details)"
   ]
  },
  {
   "cell_type": "markdown",
   "metadata": {},
   "source": [
    "Loss function for this step is\n",
    "\n",
    "$L[f] = - \\sum_\\text{data} \\log(f(x_i)) + \\sum_\\text{back. MC} w_i\\log(f(x_i)) - \\sum_\\text{data} \\log(1-f(x_i))$\n",
    "\n",
    "The binary cross entropy loss is\n",
    "\n",
    "$L[f] = -\\sum y_i\\log(f(x_i)) -\\sum (1-y_i)\\log(f(x_i))$\n",
    "\n",
    "Thus, in order to achieve the desired loss, we add the data in twice, once with $y = 1$ and once with $y = 0$ and then we add in the background simulation with a negative weight and $y=1$."
   ]
  },
  {
   "cell_type": "code",
   "execution_count": 10,
   "metadata": {
    "tags": []
   },
   "outputs": [
    {
     "name": "stderr",
     "output_type": "stream",
     "text": [
      "2024-07-05 00:29:30.595567: I tensorflow/core/platform/cpu_feature_guard.cc:193] This TensorFlow binary is optimized with oneAPI Deep Neural Network Library (oneDNN) to use the following CPU instructions in performance-critical operations:  AVX2 FMA\n",
      "To enable them in other operations, rebuild TensorFlow with the appropriate compiler flags.\n",
      "2024-07-05 00:29:31.237639: I tensorflow/core/common_runtime/gpu/gpu_device.cc:1532] Created device /job:localhost/replica:0/task:0/device:GPU:0 with 1024 MB memory:  -> device: 0, name: NVIDIA A100-PCIE-40GB, pci bus id: 0000:c3:00.0, compute capability: 8.0\n",
      "2024-07-05 00:29:49.899142: I tensorflow/stream_executor/cuda/cuda_blas.cc:1786] TensorFloat-32 will be used for the matrix multiplication. This will only be logged once.\n"
     ]
    },
    {
     "name": "stdout",
     "output_type": "stream",
     "text": [
      "Restoring model weights from the end of the best epoch: 4.\n",
      "Epoch 14: early stopping\n"
     ]
    },
    {
     "data": {
      "text/plain": [
       "<keras.callbacks.History at 0x7f7668072790>"
      ]
     },
     "execution_count": 10,
     "metadata": {},
     "output_type": "execute_result"
    }
   ],
   "source": [
    "x_data_and_MCback = np.concatenate([x_background[x_background!=dummyval],\n",
    "                                    x_data_withback[x_data_withback!=dummyval],\n",
    "                                    x_data_withback[x_data_withback!=dummyval]])\n",
    "    \n",
    "y_data_and_MCback = np.concatenate([np.ones(len(x_background[x_background!=dummyval])),\n",
    "                                    np.ones(len(x_data_withback[x_data_withback!=dummyval])),\n",
    "                                    np.zeros(len(x_data_withback[x_data_withback!=dummyval]))])\n",
    "    \n",
    "W_data_and_MCback = np.concatenate([-1.*w_back[x_background!=dummyval],\n",
    "                                    np.ones(len(x_data_withback[x_data_withback!=dummyval])),\n",
    "                                    np.ones(len(x_data_withback[x_data_withback!=dummyval]))])\n",
    "\n",
    "X_train_1, X_test_1, Y_train_1, Y_test_1, w_train_1, w_test_1 = train_test_split(\n",
    "    x_data_and_MCback, y_data_and_MCback, W_data_and_MCback)\n",
    "\n",
    "#I did not optimize this network at all; it should probably be quite good for simple problems.  Could also swap out with a BDT for low-dimensional/tabular data.\n",
    "inputs = Input((1, ))\n",
    "hidden_layer_1 = Dense(50, activation='relu')(inputs)\n",
    "hidden_layer_2 = Dense(50, activation='relu')(hidden_layer_1)\n",
    "hidden_layer_3 = Dense(50, activation='relu')(hidden_layer_2)\n",
    "outputs = Dense(1, activation='sigmoid')(hidden_layer_3)\n",
    "\n",
    "model = Model(inputs=inputs, outputs=outputs)\n",
    "\n",
    "earlystopping = EarlyStopping(patience=10,\n",
    "                              verbose=1,\n",
    "                              restore_best_weights=True)\n",
    "    \n",
    "model.compile(loss='binary_crossentropy',\n",
    "              optimizer='Adam',\n",
    "              metrics=['accuracy'],\n",
    "              weighted_metrics=[]) #to silence an annoying warning ... could compute the weighted accuracy\n",
    "model.fit(X_train_1,\n",
    "          Y_train_1,\n",
    "          sample_weight=w_train_1,\n",
    "          epochs=200,\n",
    "          batch_size=10000,\n",
    "          validation_data=(X_test_1, Y_test_1, w_test_1),\n",
    "          callbacks=[earlystopping],\n",
    "          verbose=0)"
   ]
  },
  {
   "cell_type": "markdown",
   "metadata": {},
   "source": [
    "### Check that the subtraction worked!"
   ]
  },
  {
   "cell_type": "code",
   "execution_count": 11,
   "metadata": {
    "tags": []
   },
   "outputs": [],
   "source": [
    "def reweight(events):\n",
    "    f = model.predict(events, batch_size=10000)\n",
    "    weights = f / (1. - f) #for binary cross entropy - see refs. above and https://arxiv.org/abs/2101.07263 for more info.\n",
    "    return np.squeeze(np.nan_to_num(weights)) "
   ]
  },
  {
   "cell_type": "code",
   "execution_count": 12,
   "metadata": {
    "tags": []
   },
   "outputs": [
    {
     "name": "stdout",
     "output_type": "stream",
     "text": [
      "11/11 [==============================] - 0s 866us/step\n"
     ]
    }
   ],
   "source": [
    "w_data = reweight(x_data_withback)"
   ]
  },
  {
   "cell_type": "code",
   "execution_count": 13,
   "metadata": {
    "tags": []
   },
   "outputs": [
    {
     "data": {
      "text/plain": [
       "(0.0, 33943.30261419679)"
      ]
     },
     "execution_count": 13,
     "metadata": {},
     "output_type": "execute_result"
    },
    {
     "data": {
      "image/png": "[encoded data removed]",
      "text/plain": [
       "<Figure size 640x480 with 1 Axes>"
      ]
     },
     "metadata": {},
     "output_type": "display_data"
    }
   ],
   "source": [
    "#Now the full data/sim. including background\n",
    "binning = np.linspace(-5,5,20)\n",
    "ns,_,_=plt.hist(x_sim_withback[x_sim_withback!=dummyval],weights=w_synth_withback[x_sim_withback!=dummyval],bins=binning,alpha=0.5,label=\"Sim. w/ back\")\n",
    "_,_,_=plt.hist(x_background,bins=binning,weights=w_back,alpha=0.5,label=\"Sim. back.\")\n",
    "dplot=np.histogram(x_data_withback[x_data_withback!=dummyval],bins=binning)\n",
    "plt.plot(0.5*(dplot[1][1:]+dplot[1][:-1]),dplot[0],label=\"Data w/ back\",ls=\"\",marker='o',color=\"black\")\n",
    "\n",
    "dplot2=np.histogram(x_data[x_data!=dummyval],bins=binning)\n",
    "plt.plot(0.5*(dplot2[1][1:]+dplot2[1][:-1]),dplot2[0],label=\"Data w/o back\",ls=\"\",marker='o',color=\"black\",markerfacecolor=\"none\")\n",
    "\n",
    "_,_,_=plt.hist(x_background_real,bins=binning,alpha=0.5,label=\"Data back.\",histtype=\"step\",color=\"black\")\n",
    "_,_,_=plt.hist(x_data_withback[x_data_withback!=dummyval],weights=w_data[x_data_withback!=dummyval],bins=binning,alpha=0.5,label=\"Data w/ weights\",histtype=\"step\",color=\"black\",ls=\":\")\n",
    "plt.legend(frameon=False,loc=\"upper left\",ncols=2)\n",
    "plt.ylabel(\"Number of events\")\n",
    "plt.xlabel(\"x\")\n",
    "plt.ylim([0,1.8*np.max(ns)])"
   ]
  },
  {
   "cell_type": "markdown",
   "metadata": {},
   "source": [
    "## Now we can unfold the background-subtracted data."
   ]
  },
  {
   "cell_type": "code",
   "execution_count": 14,
   "metadata": {
    "ExecuteTime": {
     "end_time": "2020-11-17T03:49:29.597528Z",
     "start_time": "2020-11-17T03:49:29.594288Z"
    }
   },
   "outputs": [],
   "source": [
    "iterations = 4\n",
    "\n",
    "weights = np.empty(shape=(iterations, 2, len(x_gen)))\n",
    "# shape = (iteration, step, event)"
   ]
  },
  {
   "cell_type": "code",
   "execution_count": 16,
   "metadata": {},
   "outputs": [],
   "source": [
    "# initial iterative weights are ones\n",
    "weights_pull = np.ones(len(x_sim))\n",
    "weights_push = np.ones(len(x_sim))"
   ]
  },
  {
   "cell_type": "code",
   "execution_count": 17,
   "metadata": {},
   "outputs": [],
   "source": [
    "xvals_1 = np.concatenate((x_sim, x_data_withback))\n",
    "yvals_1 = np.concatenate((np.zeros(len(x_sim)), np.ones(len(x_data_withback))))\n",
    "\n",
    "xvals_2 = np.concatenate((x_gen, x_gen))\n",
    "yvals_2 = np.concatenate((np.zeros(len(x_gen)), np.ones(len(x_gen))))"
   ]
  },
  {
   "cell_type": "markdown",
   "metadata": {
    "tags": []
   },
   "source": [
    "Step 1 loss function is (weight MC to match data)\n",
    "\n",
    "$L[f] = -\\sum_\\text{Data} w_i \\log(f(x_i))-\\sum_\\text{MC}\\omega_iw_i\\log(1-f(x_i))$\n",
    "\n",
    "while for Step 2, the loss function is (reweight nominal MC to the weighted MC)\n",
    "\n",
    "$L[f] = -\\sum_\\text{MC} \\nu_iw_i \\log(f(z_i))-\\sum_\\text{MC}w_i\\log(1-f(z_i))$\n",
    "\n",
    "where $\\omega_i$ are the push weights from the previous step and $\\nu_i$ are the pull weights from the previous step.  $x$ is detector level and $z$ is particle level."
   ]
  },
  {
   "cell_type": "code",
   "execution_count": 18,
   "metadata": {
    "tags": []
   },
   "outputs": [],
   "source": [
    "iterations = 4"
   ]
  },
  {
   "cell_type": "code",
   "execution_count": 19,
   "metadata": {
    "ExecuteTime": {
     "end_time": "2020-11-17T04:28:20.621248Z",
     "start_time": "2020-11-17T03:49:29.711813Z"
    }
   },
   "outputs": [
    {
     "name": "stdout",
     "output_type": "stream",
     "text": [
      "\n",
      "ITERATION: 1\n",
      "\n",
      "STEP 1\n",
      "\n",
      "Restoring model weights from the end of the best epoch: 36.\n",
      "Epoch 46: early stopping\n",
      "10/10 [==============================] - 0s 843us/step\n",
      "\n",
      "STEP 2\n",
      "\n",
      "Restoring model weights from the end of the best epoch: 42.\n",
      "Epoch 52: early stopping\n",
      "10/10 [==============================] - 0s 892us/step\n",
      "\n",
      "ITERATION: 2\n",
      "\n",
      "STEP 1\n",
      "\n",
      "Restoring model weights from the end of the best epoch: 17.\n",
      "Epoch 27: early stopping\n",
      "10/10 [==============================] - 0s 842us/step\n",
      "\n",
      "STEP 2\n",
      "\n",
      "Restoring model weights from the end of the best epoch: 11.\n",
      "Epoch 21: early stopping\n",
      "10/10 [==============================] - 0s 843us/step\n",
      "\n",
      "ITERATION: 3\n",
      "\n",
      "STEP 1\n",
      "\n",
      "Restoring model weights from the end of the best epoch: 32.\n",
      "Epoch 42: early stopping\n",
      "10/10 [==============================] - 0s 949us/step\n",
      "\n",
      "STEP 2\n",
      "\n",
      "Restoring model weights from the end of the best epoch: 9.\n",
      "Epoch 19: early stopping\n",
      "10/10 [==============================] - 0s 926us/step\n",
      "\n",
      "ITERATION: 4\n",
      "\n",
      "STEP 1\n",
      "\n",
      "Restoring model weights from the end of the best epoch: 3.\n",
      "Epoch 13: early stopping\n",
      "10/10 [==============================] - 0s 876us/step\n",
      "\n",
      "STEP 2\n",
      "\n",
      "Restoring model weights from the end of the best epoch: 4.\n",
      "Epoch 14: early stopping\n",
      "10/10 [==============================] - 0s 877us/step\n"
     ]
    }
   ],
   "source": [
    "for i in range(iterations):\n",
    "    print(\"\\nITERATION: {}\\n\".format(i + 1))\n",
    "\n",
    "    # STEP 1: classify Sim. (which is reweighted by weights_push) to Data\n",
    "    # weights reweighted Sim. --> Data\n",
    "    print(\"STEP 1\\n\")\n",
    "\n",
    "    weights_1 = np.concatenate((weights_push*w_synth, w_data))\n",
    "\n",
    "    X_train_1, X_test_1, Y_train_1, Y_test_1, w_train_1, w_test_1 = train_test_split(\n",
    "        xvals_1, yvals_1, weights_1) \n",
    "\n",
    "    model.compile(loss='binary_crossentropy',\n",
    "                  optimizer='Adam',\n",
    "                  metrics=['accuracy'],\n",
    "                  weighted_metrics=[])\n",
    "    model.fit(X_train_1[X_train_1!=dummyval],\n",
    "              Y_train_1[X_train_1!=dummyval],\n",
    "              sample_weight=w_train_1[X_train_1!=dummyval],\n",
    "              epochs=200,\n",
    "              batch_size=10000,\n",
    "              validation_data=(X_test_1[X_test_1!=dummyval], Y_test_1[X_test_1!=dummyval], w_test_1[X_test_1!=dummyval]),\n",
    "              callbacks=[earlystopping],\n",
    "              verbose=0)\n",
    "\n",
    "    weights_pull = weights_push * reweight(x_sim) \n",
    "    \n",
    "    #One option is to take the prior:\n",
    "    weights_pull[x_sim==dummyval] = 1. \n",
    "    \n",
    "    #Another (more complicated) option is to assign the average weight: <w|x_true>.  To do this, we need to estimate this quantity.\n",
    "    #xvals_1b = np.concatenate([x_gen[x_sim!=dummyval],x_gen[x_sim!=dummyval]])\n",
    "    #yvals_1b = np.concatenate([np.ones(len(x_gen[x_sim!=dummyval])),np.zeros(len(x_gen[x_sim!=dummyval]))])\n",
    "    #weights_1b = np.concatenate([weights_pull[x_sim!=dummyval],np.ones(len(x_gen[x_sim!=dummyval]))])\n",
    "    \n",
    "    #X_train_1b, X_test_1b, Y_train_1b, Y_test_1b, w_train_1b, w_test_1b = train_test_split(\n",
    "    #    xvals_1b, yvals_1b, weights_1b)    \n",
    "    \n",
    "    #model.compile(loss='binary_crossentropy',\n",
    "    #              optimizer='Adam',\n",
    "    #              metrics=['accuracy'])\n",
    "    #model.fit(X_train_1b,\n",
    "    #          Y_train_1b,\n",
    "    #          sample_weight=w_train_1b,\n",
    "    #          epochs=200,\n",
    "    #          batch_size=10000,\n",
    "    #          validation_data=(X_test_1b, Y_test_1b, w_test_1b),\n",
    "    #          callbacks=[earlystopping],\n",
    "    #          verbose=1)\n",
    "    \n",
    "    #average_vals = reweight(x_gen[x_sim==dummyval])\n",
    "    #weights_pull[x_sim==dummyval] = average_vals\n",
    "    ###\n",
    "    \n",
    "    weights[i, :1, :] = weights_pull\n",
    "\n",
    "    # STEP 2: classify Gen. to reweighted Gen. (which is reweighted by weights_pull)\n",
    "    # weights Gen. --> reweighted Gen.\n",
    "    print(\"\\nSTEP 2\\n\")\n",
    "\n",
    "    weights_2 = np.concatenate((w_synth, weights_pull*w_synth))\n",
    "\n",
    "    X_train_2, X_test_2, Y_train_2, Y_test_2, w_train_2, w_test_2 = train_test_split(\n",
    "        xvals_2, yvals_2, weights_2)\n",
    "\n",
    "    model.compile(loss='binary_crossentropy',\n",
    "                  optimizer='Adam',\n",
    "                  metrics=['accuracy'],\n",
    "                  weighted_metrics=[])\n",
    "    model.fit(X_train_2,\n",
    "              Y_train_2,\n",
    "              sample_weight=w_train_2,\n",
    "              epochs=200,\n",
    "              batch_size=2000,\n",
    "              validation_data=(X_test_2, Y_test_2, w_test_2),\n",
    "              callbacks=[earlystopping],\n",
    "              verbose=0)\n",
    "\n",
    "    weights_push = reweight(x_gen)\n",
    "    ###\n",
    "    #Need to do something with events that don't pass truth    \n",
    "    \n",
    "    #One option is to take the prior:\n",
    "    weights_push[x_gen==dummyval] = 1. \n",
    "    \n",
    "    #Another option is to assign the average weight: <w|x_reco>.  To do this, we need to estimate this quantity.\n",
    "    #xvals_1b = np.concatenate([x_sim[x_gen!=dummyval],x_sim[x_gen!=dummyval]])\n",
    "    #yvals_1b = np.concatenate([np.ones(len(x_sim[x_gen!=dummyval])),np.zeros(len(x_sim[x_gen!=dummyval]))])\n",
    "    #weights_1b = np.concatenate([weights_push[x_gen!=dummyval],np.ones(len(x_sim[x_gen!=dummyval]))])\n",
    "    \n",
    "    #X_train_1b, X_test_1b, Y_train_1b, Y_test_1b, w_train_1b, w_test_1b = train_test_split(\n",
    "    #    xvals_1b, yvals_1b, weights_1b)    \n",
    "    \n",
    "    #model.compile(loss='binary_crossentropy',\n",
    "    #              optimizer='Adam',\n",
    "    #              metrics=['accuracy'])\n",
    "    #model.fit(X_train_1b,\n",
    "    #          Y_train_1b,\n",
    "    #          sample_weight=w_train_1b,\n",
    "    #          epochs=200,\n",
    "    #          batch_size=10000,\n",
    "    #          validation_data=(X_test_1b, Y_test_1b, w_test_1b),\n",
    "    #          callbacks=[earlystopping],\n",
    "    #          verbose=1)\n",
    "    \n",
    "    #average_vals = reweight(x_sim[x_gen==dummyval])\n",
    "    #weights_push[x_gen==dummyval] = average_vals\n",
    "    ###    \n",
    "    \n",
    "    weights[i, 1:2, :] = weights_push"
   ]
  },
  {
   "cell_type": "code",
   "execution_count": 20,
   "metadata": {
    "tags": []
   },
   "outputs": [
    {
     "data": {
      "text/plain": [
       "(0.0, 33816.6)"
      ]
     },
     "execution_count": 20,
     "metadata": {},
     "output_type": "execute_result"
    },
    {
     "data": {
      "image/png": "[encoded data removed]",
      "text/plain": [
       "<Figure size 640x480 with 1 Axes>"
      ]
     },
     "metadata": {},
     "output_type": "display_data"
    }
   ],
   "source": [
    "#Now the full data/sim. including background\n",
    "binning = np.linspace(-5,5,20)\n",
    "ns,_,_=plt.hist(x_gen[x_gen!=dummyval],weights=w_synth[x_gen!=dummyval],bins=binning,alpha=0.5,label=\"Gen.\")\n",
    "_,_,_=plt.hist(x_truth[x_truth!=dummyval],bins=binning,alpha=0.5,label=\"Truth\")\n",
    "_,_,_=plt.hist(x_gen[x_gen!=dummyval],weights=w_synth[x_gen!=dummyval]*weights[3, 1:2, :][0][x_gen!=dummyval],bins=binning,alpha=0.5,label=\"Unfolded\",histtype=\"step\",color=\"black\")\n",
    "\n",
    "plt.legend(frameon=False)\n",
    "plt.ylabel(\"Number of events\")\n",
    "plt.xlabel(\"x\")\n",
    "plt.ylim([0,1.8*np.max(ns)])"
   ]
  },
  {
   "cell_type": "code",
   "execution_count": null,
   "metadata": {},
   "outputs": [],
   "source": []
  }
 ],
 "metadata": {
  "kernelspec": {
   "display_name": "tensorflow-2.9.0",
   "language": "python",
   "name": "tensorflow-2.9.0"
  },
  "language_info": {
   "codemirror_mode": {
    "name": "ipython",
    "version": 3
   },
   "file_extension": ".py",
   "mimetype": "text/x-python",
   "name": "python",
   "nbconvert_exporter": "python",
   "pygments_lexer": "ipython3",
   "version": "3.9.19"
  },
  "notify_time": "0",
  "toc": {
   "base_numbering": 1,
   "nav_menu": {},
   "number_sections": false,
   "sideBar": true,
   "skip_h1_title": false,
   "title_cell": "Table of Contents",
   "title_sidebar": "Contents",
   "toc_cell": false,
   "toc_position": {},
   "toc_section_display": true,
   "toc_window_display": false
  }
 },
 "nbformat": 4,
 "nbformat_minor": 4
}
